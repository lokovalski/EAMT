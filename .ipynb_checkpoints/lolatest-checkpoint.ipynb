{
 "cells": [
  {
   "cell_type": "code",
   "execution_count": null,
   "metadata": {},
   "outputs": [],
   "source": [
    "#pip install span_marker"
   ]
  },
  {
   "cell_type": "code",
   "execution_count": null,
   "metadata": {},
   "outputs": [
    {
     "name": "stderr",
     "output_type": "stream",
     "text": [
      "The new embeddings will be initialized from a multivariate normal distribution that has old embeddings' mean and covariance. As described in this article: https://nlp.stanford.edu/~johnhew/vocab-expansion.html. To disable this, use `mean_resizing=False`\n"
     ]
    }
   ],
   "source": [
    "from data_processing import get_subjects_by_Q_json, process_jsonl_and_json\n",
    "from span_marker import SpanMarkerModel\n",
    "from tqdm import tqdm\n",
    "import time\n",
    "import torch\n",
    "import json\n",
    "import numpy as np\n",
    "\n",
    "spanishfile = '/Users/lolakovalski/Desktop/School/csci375/EAMT/data/spanish_w_labels.json'\n",
    "italianfile = '/Users/lolakovalski/Desktop/School/csci375/EAMT/data/italian_w_labels.json'\n",
    "\n",
    "model = SpanMarkerModel.from_pretrained(\"tomaarsen/span-marker-mbert-base-multinerd\", clean_up_tokenization_spaces = True)"
   ]
  },
  {
   "cell_type": "code",
   "execution_count": 60,
   "metadata": {},
   "outputs": [
    {
     "name": "stdout",
     "output_type": "stream",
     "text": [
      "¿Qué actor protagonizó Titanic y nació en Los Ángeles, California?\n"
     ]
    }
   ],
   "source": [
    "with open(spanishfile, 'r') as jf:\n",
    "    entity_data = [json.loads(line) for line in jf]\n",
    "\n",
    "eng = entity_data[0]['source']\n",
    "esp = entity_data[0]['target']\n",
    "print(esp)"
   ]
  },
  {
   "cell_type": "code",
   "execution_count": 9,
   "metadata": {},
   "outputs": [],
   "source": [
    "entities = model.predict(eng)\n",
    "spanish_entities = model.predict(esp)"
   ]
  },
  {
   "cell_type": "code",
   "execution_count": 63,
   "metadata": {},
   "outputs": [
    {
     "name": "stdout",
     "output_type": "stream",
     "text": [
      "[{'span': 'Titanic', 'label': 'MEDIA', 'score': 0.9936309456825256, 'char_start_index': 23, 'char_end_index': 30}, {'span': 'Los Ángeles', 'label': 'LOC', 'score': 0.9999561309814453, 'char_start_index': 42, 'char_end_index': 53}, {'span': 'California', 'label': 'LOC', 'score': 0.999962329864502, 'char_start_index': 55, 'char_end_index': 65}]\n",
      "[{'span': 'Titanic', 'label': 'VEHI', 'score': 0.5069388151168823, 'char_start_index': 28, 'char_end_index': 35}, {'span': 'Los Angeles', 'label': 'LOC', 'score': 0.999987006187439, 'char_start_index': 52, 'char_end_index': 63}, {'span': 'California', 'label': 'LOC', 'score': 0.9999725818634033, 'char_start_index': 65, 'char_end_index': 75}]\n"
     ]
    }
   ],
   "source": [
    "print(spanish_entities)\n",
    "print(entities)"
   ]
  },
  {
   "cell_type": "code",
   "execution_count": null,
   "metadata": {},
   "outputs": [
    {
     "name": "stdout",
     "output_type": "stream",
     "text": [
      "['Los Ángeles']\n",
      "['Los Angeles']\n",
      "['Titanic', 'Los Ángeles', 'California']\n"
     ]
    }
   ],
   "source": [
    "line = [entity_data[0]]\n",
    "lstents = [ki['entities'] for ki in line]\n",
    "\n",
    "##FROMSEMEVAL\n",
    "keys = [ent for key in lstents for ent in key]\n",
    "esents = [key[eskey]['es'] for eskey in keys for key in lstents]\n",
    "enents = [key[enkey]['en'] for enkey in keys for key in lstents]\n",
    "print(esents)\n",
    "print(enents)\n",
    "\n",
    "##FROM MODEL\n",
    "print([entity['span'] for entity in spanish_entities])"
   ]
  },
  {
   "cell_type": "code",
   "execution_count": 59,
   "metadata": {},
   "outputs": [
    {
     "name": "stdout",
     "output_type": "stream",
     "text": [
      "['Titanic' 'Los Ángeles' 'California']\n"
     ]
    }
   ],
   "source": [
    "test = np.array([entity['span'] for entity in spanish_entities], dtype = object)\n",
    "print(test)"
   ]
  },
  {
   "cell_type": "code",
   "execution_count": null,
   "metadata": {},
   "outputs": [
    {
     "name": "stdout",
     "output_type": "stream",
     "text": [
      "Precision: 0.80\n",
      "Recall: 0.80\n",
      "F1 Score: 0.80\n"
     ]
    }
   ],
   "source": [
    "\n",
    "# Example data (NumPy array of lists)\n",
    "true_labels = np.array([\n",
    "    [\"cat\", \"dog\"],         # Observation 1\n",
    "    [\"mouse\"],              # Observation 2\n",
    "    [\"elephant\", \"rabbit\"]  # Observation 3\n",
    "], dtype=object)\n",
    "\n",
    "predicted_labels = np.array([\n",
    "    [\"dog\", \"cat\"],         # Prediction for Observation 1\n",
    "    [\"mouse\", \"cat\"],       # Prediction for Observation 2\n",
    "    [\"rabbit\"]              # Prediction for Observation 3\n",
    "], dtype=object)\n",
    "\n",
    "# Initialize counters\n",
    "TP, FP, FN = 0, 0, 0\n",
    "\n",
    "# Loop through each observation\n",
    "for true, pred in zip(true_labels, predicted_labels):\n",
    "    true_set = set(true)\n",
    "    pred_set = set(pred)\n",
    "    \n",
    "    TP += len(true_set & pred_set)  # Intersection: correctly predicted\n",
    "    FP += len(pred_set - true_set)  # Predicted but not true\n",
    "    FN += len(true_set - pred_set)  # True but not predicted\n",
    "\n",
    "# Calculate metrics\n",
    "precision = TP / (TP + FP) if (TP + FP) > 0 else 0\n",
    "recall = TP / (TP + FN) if (TP + FN) > 0 else 0\n",
    "f1 = 2 * (precision * recall) / (precision + recall) if (precision + recall) > 0 else 0\n",
    "\n",
    "print(f\"Precision: {precision:.2f}\")\n",
    "print(f\"Recall: {recall:.2f}\")\n",
    "print(f\"F1 Score: {f1:.2f}\")\n"
   ]
  },
  {
   "cell_type": "code",
   "execution_count": null,
   "metadata": {},
   "outputs": [
    {
     "name": "stdout",
     "output_type": "stream",
     "text": [
      "Identifying named entities es... \n",
      "\n",
      "[{'Q30': {'es': 'Estados Unidos', 'en': 'United States of America'}}, {'Q30': {'es': 'Estados Unidos', 'en': 'United States of America'}}, {'Q45875': {'es': 'Canción de hielo y fuego', 'en': 'A Song of Ice and Fire'}}, {'Q160071': {'es': 'Crepúsculo', 'en': 'Twilight'}}, {'Q183': {'es': 'Alemania', 'en': 'Germany'}}, {'Q30': {'es': 'Estados Unidos', 'en': 'United States of America'}}, {'Q1384': {'es': 'Nueva York', 'en': 'New York'}}, {'Q1225': {'es': 'Bruce Springsteen', 'en': 'Bruce Springsteen'}}, {'Q30': {'es': 'Estados Unidos', 'en': 'United States of America'}}, {'Q15228': {'es': 'El Señor de los Anillos', 'en': 'The Lord of the Rings'}}, {'Q37200': {'es': 'Gran pirámide de Giza', 'en': 'Great Pyramid of Giza'}}, {'Q243': {'es': 'Torre Eiffel', 'en': 'Eiffel Tower'}}, {'Q96': {'es': 'México', 'en': 'Mexico'}}, {'Q159': {'es': 'Rusia', 'en': 'Russia'}}, {'Q16': {'es': 'Canadá', 'en': 'Canada'}}, {'Q45875': {'es': 'Canción de hielo y fuego', 'en': 'A Song of Ice and Fire'}}, {'Q30': {'es': 'Estados Unidos', 'en': 'United States of America'}}, {'Q159': {'es': 'Rusia', 'en': 'Russia'}}, {'Q38022': {'es': 'San Luis', 'en': 'St. Louis'}}, {'Q30': {'es': 'Estados Unidos', 'en': 'United States of America'}, 'Q15180': {'es': 'Unión Soviética', 'en': 'Soviet Union'}, 'Q362': {'es': 'Segunda Guerra Mundial', 'en': 'World War II'}}, {'Q145': {'es': 'Reino Unido', 'en': 'United Kingdom'}, 'Q362': {'es': 'Segunda Guerra Mundial', 'en': 'World War II'}}, {'Q30': {'es': 'Estados Unidos', 'en': 'United States of America'}}, {'Q15': {'es': 'África', 'en': 'Africa'}}, {'Q1384': {'es': 'Nueva York', 'en': 'New York'}}, {'Q361': {'es': 'Primera Guerra Mundial', 'en': 'World War I'}}, {'Q41254': {'es': 'premios Grammy', 'en': 'Grammy Award'}}, {'Q30': {'es': 'Estados Unidos', 'en': 'United States of America'}}, {'Q1048': {'es': 'Julio César', 'en': 'Julius Caesar'}}, {'Q160219': {'es': 'Stephenie Meyer', 'en': 'Stephenie Meyer'}}, {'Q1588': {'es': 'Luisiana', 'en': 'Louisiana'}}, {'Q30': {'es': 'Estados Unidos', 'en': 'United States of America'}}, {'Q17': {'es': 'Japón', 'en': 'Japan'}, 'Q362': {'es': 'Segunda Guerra Mundial', 'en': 'World War II'}}, {'Q362': {'es': 'Segunda Guerra Mundial', 'en': 'World War II'}, 'Q17': {'es': 'Japón', 'en': 'Japan'}}, {'Q1169': {'es': 'Lago Míchigan', 'en': 'Lake Michigan'}}, {'Q46': {'es': 'Europa', 'en': 'Europe'}}, {'Q905': {'es': 'Franz Kafka', 'en': 'Franz Kafka'}}, {'Q889': {'es': 'Afganistán', 'en': 'Afghanistan'}}, {'Q30': {'es': 'Estados Unidos', 'en': 'United States of America'}}, {'Q83497': {'es': 'Monte Rushmore', 'en': 'Mount Rushmore'}, 'Q1211': {'es': 'Dakota del Sur', 'en': 'South Dakota'}}, {'Q190214': {'es': 'El Señor de los Anillos', 'en': 'The Lord of the Rings trilogy'}}, {'Q43': {'es': 'Turquía', 'en': 'Turkey'}, 'Q79': {'es': 'Egipto', 'en': 'Egypt'}}, {'Q46': {'es': 'Europa', 'en': 'Europe'}}, {'Q43450': {'es': 'gimnasia', 'en': 'gymnastics'}}, {'Q1000': {'es': 'Gabón', 'en': 'Gabon'}, 'Q159': {'es': 'Rusia', 'en': 'Russia'}}, {'Q483412': {'es': 'Las Crónicas de Narnia', 'en': 'The Chronicles of Narnia'}}, {'Q30': {'es': 'Estados Unidos', 'en': 'United States of America'}}, {'Q30': {'es': 'Estados Unidos', 'en': 'United States of America'}}, {'Q30': {'es': 'Estados Unidos', 'en': 'United States of America'}}, {'Q30': {'es': 'Estados Unidos', 'en': 'United States of America'}}, {'Q41254': {'es': 'premios Grammy', 'en': 'Grammy Award'}}, {'Q41254': {'es': 'premios Grammy', 'en': 'Grammy Award'}}, {'Q35627': {'es': 'Sonic the Hedgehog 2', 'en': 'Sonic the Hedgehog 2'}}, {'Q170583': {'es': 'Orgullo y prejuicio', 'en': 'Pride and Prejudice'}}, {'Q155': {'es': 'Brasil', 'en': 'Brazil'}}, {'Q16': {'es': 'Canadá', 'en': 'Canada'}}, {'Q30': {'es': 'Estados Unidos', 'en': 'United States of America'}}, {'Q483412': {'es': 'Las Crónicas de Narnia', 'en': 'The Chronicles of Narnia'}}, {'Q15228': {'es': 'El Señor de los Anillos', 'en': 'The Lord of the Rings'}}, {'Q215518': {'es': 'Aladdín', 'en': 'Aladdin'}}, {'Q65': {'es': 'Los Ángeles', 'en': 'Los Angeles'}}, {'Q816016': {'es': 'El juego de Ender', 'en': \"Ender's Game\"}}, {'Q545449': {'es': 'guerra de Irak', 'en': 'Iraq War'}}, {'Q16': {'es': 'Canadá', 'en': 'Canada'}}, {'Q1324198': {'es': 'Tratado de Gante', 'en': 'Treaty of Ghent'}}, {'Q183': {'es': 'Alemania', 'en': 'Germany'}}, {'Q218': {'es': 'Rumania', 'en': 'Romania'}}, {'Q11696': {'es': 'presidente de Estados Unidos', 'en': 'President of the United States'}}, {'Q30': {'es': 'Estados Unidos', 'en': 'United States of America'}}, {'Q1211934': {'es': 'hispanos', 'en': 'Hispanic'}, 'Q30': {'es': 'Estados Unidos', 'en': 'United States of America'}}, {'Q1400': {'es': 'Pensilvania', 'en': 'Pennsylvania'}, 'Q30': {'es': 'Estados Unidos', 'en': 'United States of America'}}, {'Q80817': {'es': 'Harry Potter y la Orden del Fénix', 'en': 'Harry Potter and the Order of the Phoenix'}}, {'Q8686': {'es': 'Shanghái', 'en': 'Shanghai'}, 'Q1490': {'es': 'Tokio', 'en': 'Tokyo'}}, {'Q2875': {'es': 'Lo que el viento se llevó', 'en': 'Gone with the Wind'}}, {'Q142': {'es': 'Francia', 'en': 'France'}}, {'Q38': {'es': 'Italia', 'en': 'Italy'}}, {'Q27': {'es': 'Irlanda', 'en': 'Ireland'}}, {'Q8337': {'es': 'Harry Potter', 'en': 'Harry Potter'}}, {'Q35525': {'es': 'Casa Blanca', 'en': 'White House'}, 'Q30': {'es': 'Estados Unidos', 'en': 'United States of America'}}, {'Q46': {'es': 'Europa', 'en': 'Europe'}}, {'Q30': {'es': 'Estados Unidos', 'en': 'United States of America'}}, {'Q46': {'es': 'Europa', 'en': 'Europe'}}, {'Q1400': {'es': 'Pensilvania', 'en': 'Pennsylvania'}}, {'Q30': {'es': 'Estados Unidos', 'en': 'United States of America'}}, {'Q29': {'es': 'España', 'en': 'Spain'}}, {'Q64566657': {'es': 'Animal Crossing: New Horizons', 'en': 'Animal Crossing: New Horizons'}}, {'Q1211': {'es': 'Dakota del Sur', 'en': 'South Dakota'}}, {'Q796': {'es': 'Irak', 'en': 'Iraq'}}, {'Q30': {'es': 'Estados Unidos', 'en': 'United States of America'}}, {'Q361': {'es': 'Primera Guerra Mundial', 'en': 'World War I'}}, {'Q30': {'es': 'Estados Unidos', 'en': 'United States of America'}, 'Q21': {'es': 'Inglaterra', 'en': 'England'}, 'Q17': {'es': 'Japón', 'en': 'Japan'}}, {'Q41254': {'es': 'premios Grammy', 'en': 'Grammy Award'}}, {'Q1048': {'es': 'Julio César', 'en': 'Julius Caesar'}}, {'Q183': {'es': 'Alemania', 'en': 'Germany'}}, {'Q362': {'es': 'Segunda Guerra Mundial', 'en': 'World War II'}}, {'Q41': {'es': 'Grecia', 'en': 'Greece'}}, {'Q15228': {'es': 'El Señor de los Anillos', 'en': 'The Lord of the Rings'}}, {'Q1384': {'es': 'Nueva York', 'en': 'New York'}}, {'Q29545': {'es': 'Kevin Durant', 'en': 'Kevin Durant'}}, {'Q1048': {'es': 'Julio César', 'en': 'Julius Caesar'}, 'Q8409': {'es': 'Alejandro Magno', 'en': 'Alexander the Great'}}, {'Q1408': {'es': 'Nueva Jersey', 'en': 'New Jersey'}}, {'Q1037': {'es': 'Ruanda', 'en': 'Rwanda'}}, {'Q1522': {'es': 'Nuevo México', 'en': 'New Mexico'}}, {'Q30': {'es': 'Estados Unidos', 'en': 'United States of America'}}, {'Q30': {'es': 'Estados Unidos', 'en': 'United States of America'}}, {'Q423': {'es': 'Corea del Norte', 'en': 'North Korea'}}, {'Q30': {'es': 'Estados Unidos', 'en': 'United States of America'}}, {'Q17': {'es': 'Japón', 'en': 'Japan'}}, {'Q30': {'es': 'Estados Unidos', 'en': 'United States of America'}, 'Q159': {'es': 'Rusia', 'en': 'Russia'}}, {'Q79': {'es': 'Egipto', 'en': 'Egypt'}}, {'Q98': {'es': 'océano Pacífico', 'en': 'Pacific Ocean'}}, {'Q483412': {'es': 'Las Crónicas de Narnia', 'en': 'The Chronicles of Narnia'}}, {'Q159': {'es': 'Rusia', 'en': 'Russia'}, 'Q16': {'es': 'Canadá', 'en': 'Canada'}}, {'Q30': {'es': 'Estados Unidos', 'en': 'United States of America'}}, {'Q361': {'es': 'Primera Guerra Mundial', 'en': 'World War I'}}, {'Q8479': {'es': 'Pedro I', 'en': 'Peter the Great'}}, {'Q782': {'es': 'Hawái', 'en': 'Hawaii'}}, {'Q17': {'es': 'Japón', 'en': 'Japan'}}, {'Q155': {'es': 'Brasil', 'en': 'Brazil'}}, {'Q362': {'es': 'Segunda Guerra Mundial', 'en': 'World War II'}, 'Q17': {'es': 'Japón', 'en': 'Japan'}}, {'Q30': {'es': 'Estados Unidos', 'en': 'United States of America'}}, {'Q44523': {'es': 'Crepúsculo', 'en': 'Twilight'}}, {'Q41254': {'es': 'premios Grammy', 'en': 'Grammy Award'}}, {'Q30': {'es': 'Estados Unidos', 'en': 'United States of America'}}, {'Q79': {'es': 'Egipto', 'en': 'Egypt'}}, {'Q17': {'es': 'Japón', 'en': 'Japan'}}, {'Q30': {'es': 'Estados Unidos', 'en': 'United States of America'}}, {'Q30': {'es': 'Estados Unidos', 'en': 'United States of America'}}, {'Q30': {'es': 'Estados Unidos', 'en': 'United States of America'}}, {'Q36': {'es': 'Polonia', 'en': 'Poland'}}, {'Q162202': {'es': 'Nicki Minaj', 'en': 'Nicki Minaj'}}, {'Q41254': {'es': 'premios Grammy', 'en': 'Grammy Award'}}, {'Q23666': {'es': 'Gran Bretaña', 'en': 'Great Britain'}}, {'Q79': {'es': 'Egipto', 'en': 'Egypt'}}, {'Q15228': {'es': 'El Señor de los Anillos', 'en': 'The Lord of the Rings'}}, {'Q35525': {'es': 'Casa Blanca', 'en': 'White House'}}, {'Q1384': {'es': 'Nueva York', 'en': 'New York'}}, {'Q904528': {'es': 'premio Grammy al álbum del año', 'en': 'Grammy Award for Album of the Year'}}, {'Q1522': {'es': 'Nuevo México', 'en': 'New Mexico'}}, {'Q1163715': {'es': 'Grandes Ligas de Béisbol', 'en': 'Major League Baseball'}}, {'Q30': {'es': 'Estados Unidos', 'en': 'United States of America'}}, {'Q155': {'es': 'Brasil', 'en': 'Brazil'}}, {'Q17': {'es': 'Japón', 'en': 'Japan'}}, {'Q1046812': {'es': 'Sonic el Erizo', 'en': 'Sonic the Hedgehog'}}, {'Q30': {'es': 'Estados Unidos', 'en': 'United States of America'}}, {'Q12501': {'es': 'Gran Muralla China', 'en': 'Great Wall of China'}}, {'Q15': {'es': 'África', 'en': 'Africa'}}, {'Q79': {'es': 'Egipto', 'en': 'Egypt'}}, {'Q212340': {'es': 'Matar un ruiseñor', 'en': 'To Kill a Mockingbird'}}, {'Q155': {'es': 'Brasil', 'en': 'Brazil'}}, {'Q1400': {'es': 'Pensilvania', 'en': 'Pennsylvania'}}, {'Q8409': {'es': 'Alejandro Magno', 'en': 'Alexander the Great'}}, {'Q361': {'es': 'Primera Guerra Mundial', 'en': 'World War I'}}, {'Q5369': {'es': 'béisbol', 'en': 'baseball'}}, {'Q16': {'es': 'Canadá', 'en': 'Canada'}}, {'Q16': {'es': 'Canadá', 'en': 'Canada'}}, {'Q35525': {'es': 'Casa Blanca', 'en': 'White House'}}, {'Q21': {'es': 'Inglaterra', 'en': 'England'}}, {'Q30': {'es': 'Estados Unidos', 'en': 'United States of America'}}, {'Q214102': {'es': 'Unión', 'en': 'Union'}}, {'Q30': {'es': 'Estados Unidos', 'en': 'United States of America'}}, {'Q90': {'es': 'París', 'en': 'Paris'}}, {'Q41254': {'es': 'premios Grammy', 'en': 'Grammy Award'}}, {'Q1207': {'es': 'Dakota del Norte', 'en': 'North Dakota'}}, {'Q17': {'es': 'Japón', 'en': 'Japan'}}, {'Q513': {'es': 'Everest', 'en': 'Mount Everest'}}, {'Q160071': {'es': 'Crepúsculo', 'en': 'Twilight'}}, {'Q1384': {'es': 'Nueva York', 'en': 'New York'}}, {'Q45875': {'es': 'Canción de hielo y fuego', 'en': 'A Song of Ice and Fire'}}, {'Q1454': {'es': 'Carolina del Norte', 'en': 'North Carolina'}}, {'Q30': {'es': 'Estados Unidos', 'en': 'United States of America'}}, {'Q44523': {'es': 'Crepúsculo', 'en': 'Twilight'}}, {'Q318910': {'es': 'Entrevista con el vampiro', 'en': 'Interview with the Vampire'}}, {'Q159': {'es': 'Rusia', 'en': 'Russia'}}, {'Q145': {'es': 'Reino Unido', 'en': 'United Kingdom'}}, {'Q41254': {'es': 'premios Grammy', 'en': 'Grammy Award'}}, {'Q18': {'es': 'América del Sur', 'en': 'South America'}}, {'Q44523': {'es': 'Crepúsculo', 'en': 'Twilight'}}, {'Q44523': {'es': 'Crepúsculo', 'en': 'Twilight'}}, {'Q5451': {'es': 'Himalaya', 'en': 'Himalayas'}}, {'Q362': {'es': 'Segunda Guerra Mundial', 'en': 'World War II'}}, {'Q15228': {'es': 'El Señor de los Anillos', 'en': 'The Lord of the Rings'}}, {'Q29': {'es': 'España', 'en': 'Spain'}}, {'Q362': {'es': 'Segunda Guerra Mundial', 'en': 'World War II'}, 'Q183': {'es': 'Alemania', 'en': 'Germany'}}, {'Q15228': {'es': 'El Señor de los Anillos', 'en': 'The Lord of the Rings'}}, {'Q362': {'es': 'Segunda Guerra Mundial', 'en': 'World War II'}}, {'Q12560': {'es': 'Imperio otomano', 'en': 'Ottoman Empire'}}, {'Q16': {'es': 'Canadá', 'en': 'Canada'}}, {'Q30': {'es': 'Estados Unidos', 'en': 'United States of America'}}, {'Q361': {'es': 'Primera Guerra Mundial', 'en': 'World War I'}}, {'Q15': {'es': 'África', 'en': 'Africa'}}, {'Q513': {'es': 'Everest', 'en': 'Mount Everest'}}, {'Q30': {'es': 'Estados Unidos', 'en': 'United States of America'}}, {'Q16': {'es': 'Canadá', 'en': 'Canada'}}, {'Q183': {'es': 'Alemania', 'en': 'Germany'}, 'Q30': {'es': 'Estados Unidos', 'en': 'United States of America'}}, {'Q96': {'es': 'México', 'en': 'Mexico'}, 'Q155': {'es': 'Brasil', 'en': 'Brazil'}}, {'Q15228': {'es': 'El Señor de los Anillos', 'en': 'The Lord of the Rings'}}, {'Q220': {'es': 'Roma', 'en': 'Rome'}}, {'Q30': {'es': 'Estados Unidos', 'en': 'United States of America'}}, {'Q782': {'es': 'Hawái', 'en': 'Hawaii'}}, {'Q1845': {'es': 'Biblia', 'en': 'Bible'}}, {'Q159': {'es': 'Rusia', 'en': 'Russia'}}, {'Q16': {'es': 'Canadá', 'en': 'Canada'}}, {'Q30': {'es': 'Estados Unidos', 'en': 'United States of America'}}, {'Q11696': {'es': 'presidente de Estados Unidos', 'en': 'President of the United States'}}, {'Q46': {'es': 'Europa', 'en': 'Europe'}}, {'Q1048': {'es': 'Julio César', 'en': 'Julius Caesar'}}, {'Q362': {'es': 'Segunda Guerra Mundial', 'en': 'World War II'}}, {'Q362': {'es': 'Segunda Guerra Mundial', 'en': 'World War II'}}, {'Q145': {'es': 'Reino Unido', 'en': 'United Kingdom'}}, {'Q15': {'es': 'África', 'en': 'Africa'}}, {'Q183': {'es': 'Alemania', 'en': 'Germany'}}, {'Q545449': {'es': 'guerra de Irak', 'en': 'Iraq War'}}, {'Q8740': {'es': 'Guerra de Vietnam', 'en': 'Vietnam War'}}, {'Q30': {'es': 'Estados Unidos', 'en': 'United States of America'}}, {'Q4470': {'es': 'La rueda del tiempo', 'en': 'The Wheel of Time'}, 'Q45875': {'es': 'Canción de hielo y fuego', 'en': 'A Song of Ice and Fire'}}, {'Q1407': {'es': 'Tiberio', 'en': 'Tiberius'}}, {'Q183': {'es': 'Alemania', 'en': 'Germany'}}, {'Q15228': {'es': 'El Señor de los Anillos', 'en': 'The Lord of the Rings'}}, {'Q1163715': {'es': 'Grandes Ligas de Béisbol', 'en': 'Major League Baseball'}}, {'Q30': {'es': 'Estados Unidos', 'en': 'United States of America'}}, {'Q15228': {'es': 'El Señor de los Anillos', 'en': 'The Lord of the Rings'}}, {'Q30': {'es': 'Estados Unidos', 'en': 'United States of America'}}, {'Q190214': {'es': 'El Señor de los Anillos', 'en': 'The Lord of the Rings trilogy'}}, {'Q173626': {'es': 'Pac-Man', 'en': 'Pac-Man'}}, {'Q18': {'es': 'América del Sur', 'en': 'South America'}}, {'Q30': {'es': 'Estados Unidos', 'en': 'United States of America'}}, {'Q30': {'es': 'Estados Unidos', 'en': 'United States of America'}}, {'Q30': {'es': 'Estados Unidos', 'en': 'United States of America'}}, {'Q1524': {'es': 'Atenas', 'en': 'Athens'}, 'Q10288': {'es': 'Partenón', 'en': 'Parthenon'}}, {'Q361': {'es': 'Primera Guerra Mundial', 'en': 'World War I'}}, {'Q7732': {'es': 'Luis XVI', 'en': 'Louis XVI of France'}}, {'Q38104': {'es': 'Premio Nobel de Física', 'en': 'Nobel Prize in Physics'}}, {'Q30': {'es': 'Estados Unidos', 'en': 'United States of America'}}, {'Q21': {'es': 'Inglaterra', 'en': 'England'}}, {'Q34': {'es': 'Suecia', 'en': 'Sweden'}}, {'Q30': {'es': 'Estados Unidos', 'en': 'United States of America'}}, {'Q30': {'es': 'Estados Unidos', 'en': 'United States of America'}}, {'Q30': {'es': 'Estados Unidos', 'en': 'United States of America'}, 'Q16': {'es': 'Canadá', 'en': 'Canada'}}, {'Q17': {'es': 'Japón', 'en': 'Japan'}, 'Q183': {'es': 'Alemania', 'en': 'Germany'}}, {'Q96': {'es': 'México', 'en': 'Mexico'}}, {'Q8740': {'es': 'Guerra de Vietnam', 'en': 'Vietnam War'}}, {'Q355522': {'es': 'Mitch McConnell', 'en': 'Mitch McConnell'}}, {'Q15': {'es': 'África', 'en': 'Africa'}}, {'Q81925268': {'es': 'Balada de pájaros cantores y serpientes', 'en': 'The Ballad of Songbirds and Snakes'}}, {'Q159': {'es': 'Rusia', 'en': 'Russia'}}, {'Q190214': {'es': 'El Señor de los Anillos', 'en': 'The Lord of the Rings trilogy'}}, {'Q30': {'es': 'Estados Unidos', 'en': 'United States of America'}}, {'Q44523': {'es': 'Crepúsculo', 'en': 'Twilight'}}, {'Q846570': {'es': 'Estadounidense', 'en': 'Americans'}}, {'Q21': {'es': 'Inglaterra', 'en': 'England'}}, {'Q16': {'es': 'Canadá', 'en': 'Canada'}}, {'Q96': {'es': 'México', 'en': 'Mexico'}, 'Q16': {'es': 'Canadá', 'en': 'Canada'}}, {'Q27': {'es': 'Irlanda', 'en': 'Ireland'}, 'Q21': {'es': 'Inglaterra', 'en': 'England'}}, {'Q41254': {'es': 'premios Grammy', 'en': 'Grammy Award'}}, {'Q159': {'es': 'Rusia', 'en': 'Russia'}, 'Q362': {'es': 'Segunda Guerra Mundial', 'en': 'World War II'}}, {'Q362': {'es': 'Segunda Guerra Mundial', 'en': 'World War II'}}, {'Q190214': {'es': 'El Señor de los Anillos', 'en': 'The Lord of the Rings trilogy'}}, {'Q30': {'es': 'Estados Unidos', 'en': 'United States of America'}}, {'Q14452': {'es': 'Isla de Pascua', 'en': 'Easter Island'}}, {'Q27': {'es': 'Irlanda', 'en': 'Ireland'}}, {'Q41254': {'es': 'premios Grammy', 'en': 'Grammy Award'}}, {'Q44523': {'es': 'Crepúsculo', 'en': 'Twilight'}}, {'Q16': {'es': 'Canadá', 'en': 'Canada'}}, {'Q121783': {'es': 'Los Angels Lakers', 'en': 'Los Angeles Lakers'}}, {'Q30': {'es': 'Estados Unidos', 'en': 'United States of America'}}, {'Q44523': {'es': 'Crepúsculo', 'en': 'Twilight'}}, {'Q40949': {'es': 'guerra de Independencia de los Estados Unidos', 'en': 'American Revolutionary War'}}, {'Q30': {'es': 'Estados Unidos', 'en': 'United States of America'}}, {'Q29552': {'es': 'Partido Demócrata', 'en': 'Democratic Party'}}, {'Q362': {'es': 'Segunda Guerra Mundial', 'en': 'World War II'}}, {'Q361': {'es': 'Primera Guerra Mundial', 'en': 'World War I'}}, {'Q220': {'es': 'Roma', 'en': 'Rome'}}, {'Q10680': {'es': 'PlayStation 2', 'en': 'PlayStation 2'}}, {'Q1524': {'es': 'Atenas', 'en': 'Athens'}}, {'Q142': {'es': 'Francia', 'en': 'France'}, 'Q14212': {'es': 'primer ministro', 'en': 'prime minister'}}, {'Q3260367': {'es': 'Escalofríos', 'en': 'Goosebumps'}}, {'Q79': {'es': 'Egipto', 'en': 'Egypt'}}, {'Q49': {'es': 'América del Norte', 'en': 'North America'}}, {'Q5369': {'es': 'béisbol', 'en': 'baseball'}}, {'Q30': {'es': 'Estados Unidos', 'en': 'United States of America'}}, {'Q362': {'es': 'Segunda Guerra Mundial', 'en': 'World War II'}}, {'Q48314': {'es': 'Batalla de Waterloo', 'en': 'Battle of Waterloo'}}, {'Q1400': {'es': 'Pensilvania', 'en': 'Pennsylvania'}}, {'Q41254': {'es': 'premios Grammy', 'en': 'Grammy Award'}}, {'Q30': {'es': 'Estados Unidos', 'en': 'United States of America'}}, {'Q4675': {'es': 'Monte Santa Helena', 'en': 'Mount St. Helens'}}, {'Q1494': {'es': 'Misisipi', 'en': 'Mississippi'}}, {'Q183': {'es': 'Alemania', 'en': 'Germany'}, 'Q362': {'es': 'Segunda Guerra Mundial', 'en': 'World War II'}}, {'Q41254': {'es': 'premios Grammy', 'en': 'Grammy Award'}}, {'Q30': {'es': 'Estados Unidos', 'en': 'United States of America'}}, {'Q15228': {'es': 'El Señor de los Anillos', 'en': 'The Lord of the Rings'}}, {'Q159': {'es': 'Rusia', 'en': 'Russia'}}, {'Q41254': {'es': 'premios Grammy', 'en': 'Grammy Award'}}, {'Q796': {'es': 'Irak', 'en': 'Iraq'}}, {'Q38': {'es': 'Italia', 'en': 'Italy'}}, {'Q1384': {'es': 'Nueva York', 'en': 'New York'}}, {'Q21': {'es': 'Inglaterra', 'en': 'England'}}, {'Q15': {'es': 'África', 'en': 'Africa'}}, {'Q145': {'es': 'Reino Unido', 'en': 'United Kingdom'}, 'Q41614': {'es': 'monarquía constitucional', 'en': 'constitutional monarchy'}}, {'Q96': {'es': 'México', 'en': 'Mexico'}}]\n",
      "['Q30', 'Q30', 'Q45875', 'Q160071', 'Q183', 'Q30', 'Q1384', 'Q1225', 'Q30', 'Q15228', 'Q37200', 'Q243', 'Q96', 'Q159', 'Q16', 'Q45875', 'Q30', 'Q159', 'Q38022', 'Q30', 'Q15180', 'Q362', 'Q145', 'Q362', 'Q30', 'Q15', 'Q1384', 'Q361', 'Q41254', 'Q30', 'Q1048', 'Q160219', 'Q1588', 'Q30', 'Q17', 'Q362', 'Q362', 'Q17', 'Q1169', 'Q46', 'Q905', 'Q889', 'Q30', 'Q83497', 'Q1211', 'Q190214', 'Q43', 'Q79', 'Q46', 'Q43450', 'Q1000', 'Q159', 'Q483412', 'Q30', 'Q30', 'Q30', 'Q30', 'Q41254', 'Q41254', 'Q35627', 'Q170583', 'Q155', 'Q16', 'Q30', 'Q483412', 'Q15228', 'Q215518', 'Q65', 'Q816016', 'Q545449', 'Q16', 'Q1324198', 'Q183', 'Q218', 'Q11696', 'Q30', 'Q1211934', 'Q30', 'Q1400', 'Q30', 'Q80817', 'Q8686', 'Q1490', 'Q2875', 'Q142', 'Q38', 'Q27', 'Q8337', 'Q35525', 'Q30', 'Q46', 'Q30', 'Q46', 'Q1400', 'Q30', 'Q29', 'Q64566657', 'Q1211', 'Q796', 'Q30', 'Q361', 'Q30', 'Q21', 'Q17', 'Q41254', 'Q1048', 'Q183', 'Q362', 'Q41', 'Q15228', 'Q1384', 'Q29545', 'Q1048', 'Q8409', 'Q1408', 'Q1037', 'Q1522', 'Q30', 'Q30', 'Q423', 'Q30', 'Q17', 'Q30', 'Q159', 'Q79', 'Q98', 'Q483412', 'Q159', 'Q16', 'Q30', 'Q361', 'Q8479', 'Q782', 'Q17', 'Q155', 'Q362', 'Q17', 'Q30', 'Q44523', 'Q41254', 'Q30', 'Q79', 'Q17', 'Q30', 'Q30', 'Q30', 'Q36', 'Q162202', 'Q41254', 'Q23666', 'Q79', 'Q15228', 'Q35525', 'Q1384', 'Q904528', 'Q1522', 'Q1163715', 'Q30', 'Q155', 'Q17', 'Q1046812', 'Q30', 'Q12501', 'Q15', 'Q79', 'Q212340', 'Q155', 'Q1400', 'Q8409', 'Q361', 'Q5369', 'Q16', 'Q16', 'Q35525', 'Q21', 'Q30', 'Q214102', 'Q30', 'Q90', 'Q41254', 'Q1207', 'Q17', 'Q513', 'Q160071', 'Q1384', 'Q45875', 'Q1454', 'Q30', 'Q44523', 'Q318910', 'Q159', 'Q145', 'Q41254', 'Q18', 'Q44523', 'Q44523', 'Q5451', 'Q362', 'Q15228', 'Q29', 'Q362', 'Q183', 'Q15228', 'Q362', 'Q12560', 'Q16', 'Q30', 'Q361', 'Q15', 'Q513', 'Q30', 'Q16', 'Q183', 'Q30', 'Q96', 'Q155', 'Q15228', 'Q220', 'Q30', 'Q782', 'Q1845', 'Q159', 'Q16', 'Q30', 'Q11696', 'Q46', 'Q1048', 'Q362', 'Q362', 'Q145', 'Q15', 'Q183', 'Q545449', 'Q8740', 'Q30', 'Q4470', 'Q45875', 'Q1407', 'Q183', 'Q15228', 'Q1163715', 'Q30', 'Q15228', 'Q30', 'Q190214', 'Q173626', 'Q18', 'Q30', 'Q30', 'Q30', 'Q1524', 'Q10288', 'Q361', 'Q7732', 'Q38104', 'Q30', 'Q21', 'Q34', 'Q30', 'Q30', 'Q30', 'Q16', 'Q17', 'Q183', 'Q96', 'Q8740', 'Q355522', 'Q15', 'Q81925268', 'Q159', 'Q190214', 'Q30', 'Q44523', 'Q846570', 'Q21', 'Q16', 'Q96', 'Q16', 'Q27', 'Q21', 'Q41254', 'Q159', 'Q362', 'Q362', 'Q190214', 'Q30', 'Q14452', 'Q27', 'Q41254', 'Q44523', 'Q16', 'Q121783', 'Q30', 'Q44523', 'Q40949', 'Q30', 'Q29552', 'Q362', 'Q361', 'Q220', 'Q10680', 'Q1524', 'Q142', 'Q14212', 'Q3260367', 'Q79', 'Q49', 'Q5369', 'Q30', 'Q362', 'Q48314', 'Q1400', 'Q41254', 'Q30', 'Q4675', 'Q1494', 'Q183', 'Q362', 'Q41254', 'Q30', 'Q15228', 'Q159', 'Q41254', 'Q796', 'Q38', 'Q1384', 'Q21', 'Q15', 'Q145', 'Q41614', 'Q96']\n"
     ]
    },
    {
     "ename": "KeyError",
     "evalue": "'Q30'",
     "output_type": "error",
     "traceback": [
      "\u001b[0;31m---------------------------------------------------------------------------\u001b[0m",
      "\u001b[0;31mKeyError\u001b[0m                                  Traceback (most recent call last)",
      "Cell \u001b[0;32mIn[1], line 19\u001b[0m\n\u001b[1;32m     16\u001b[0m \u001b[38;5;28mprint\u001b[39m(\u001b[38;5;124m\"\u001b[39m\u001b[38;5;124mIdentifying named entities \u001b[39m\u001b[38;5;132;01m{}\u001b[39;00m\u001b[38;5;124m... \u001b[39m\u001b[38;5;130;01m\\n\u001b[39;00m\u001b[38;5;124m\"\u001b[39m\u001b[38;5;241m.\u001b[39mformat(language))\n\u001b[1;32m     17\u001b[0m file \u001b[38;5;241m=\u001b[39m es_dev \u001b[38;5;28;01mif\u001b[39;00m language \u001b[38;5;241m==\u001b[39m \u001b[38;5;124m'\u001b[39m\u001b[38;5;124mes\u001b[39m\u001b[38;5;124m'\u001b[39m \u001b[38;5;28;01melse\u001b[39;00m it_dev\n\u001b[0;32m---> 19\u001b[0m nerRes[language] \u001b[38;5;241m=\u001b[39m identify_named_entities(file, language, \u001b[38;5;124m\"\u001b[39m\u001b[38;5;124mdev\u001b[39m\u001b[38;5;124m\"\u001b[39m)\n\u001b[1;32m     20\u001b[0m \u001b[38;5;28minput\u001b[39m \u001b[38;5;241m=\u001b[39m {\u001b[38;5;124m\"\u001b[39m\u001b[38;5;124mentities_labeled\u001b[39m\u001b[38;5;124m\"\u001b[39m: nerRes[\u001b[38;5;124m'\u001b[39m\u001b[38;5;124mtarget_entities_labeled\u001b[39m\u001b[38;5;124m'\u001b[39m], \u001b[38;5;124m\"\u001b[39m\u001b[38;5;124mentities_predicted\u001b[39m\u001b[38;5;124m\"\u001b[39m: nerRes[\u001b[38;5;124m'\u001b[39m\u001b[38;5;124mtarget_entities_predicted\u001b[39m\u001b[38;5;124m'\u001b[39m]}\n\u001b[1;32m     22\u001b[0m precision, recall, F1 \u001b[38;5;241m=\u001b[39m sanity_check(\u001b[38;5;28minput\u001b[39m)\n",
      "File \u001b[0;32m~/Desktop/School/csci375/EAMT/ner_processing.py:59\u001b[0m, in \u001b[0;36midentify_named_entities\u001b[0;34m(inputs, language, split)\u001b[0m\n\u001b[1;32m     56\u001b[0m keys \u001b[38;5;241m=\u001b[39m [ent \u001b[38;5;28;01mfor\u001b[39;00m key \u001b[38;5;129;01min\u001b[39;00m lstents \u001b[38;5;28;01mfor\u001b[39;00m ent \u001b[38;5;129;01min\u001b[39;00m key]\n\u001b[1;32m     57\u001b[0m \u001b[38;5;28mprint\u001b[39m(keys)\n\u001b[0;32m---> 59\u001b[0m source_entities_labeled \u001b[38;5;241m=\u001b[39m np\u001b[38;5;241m.\u001b[39marray([key[enkey][\u001b[38;5;124m'\u001b[39m\u001b[38;5;124men\u001b[39m\u001b[38;5;124m'\u001b[39m] \u001b[38;5;28;01mfor\u001b[39;00m enkey \u001b[38;5;129;01min\u001b[39;00m keys \u001b[38;5;28;01mfor\u001b[39;00m key \u001b[38;5;129;01min\u001b[39;00m lstents], dtype \u001b[38;5;241m=\u001b[39m \u001b[38;5;28mobject\u001b[39m)\n\u001b[1;32m     60\u001b[0m target_entities_labeled \u001b[38;5;241m=\u001b[39m np\u001b[38;5;241m.\u001b[39marray([key[enkey][language] \u001b[38;5;28;01mfor\u001b[39;00m enkey \u001b[38;5;129;01min\u001b[39;00m keys \u001b[38;5;28;01mfor\u001b[39;00m key \u001b[38;5;129;01min\u001b[39;00m lstents], dtype \u001b[38;5;241m=\u001b[39m \u001b[38;5;28mobject\u001b[39m)\n\u001b[1;32m     62\u001b[0m model \u001b[38;5;241m=\u001b[39m SpanMarkerModel\u001b[38;5;241m.\u001b[39mfrom_pretrained(\u001b[38;5;124m\"\u001b[39m\u001b[38;5;124mtomaarsen/span-marker-mbert-base-multinerd\u001b[39m\u001b[38;5;124m\"\u001b[39m, clean_up_tokenization_spaces \u001b[38;5;241m=\u001b[39m \u001b[38;5;28;01mTrue\u001b[39;00m)\n",
      "File \u001b[0;32m~/Desktop/School/csci375/EAMT/ner_processing.py:59\u001b[0m, in \u001b[0;36m<listcomp>\u001b[0;34m(.0)\u001b[0m\n\u001b[1;32m     56\u001b[0m keys \u001b[38;5;241m=\u001b[39m [ent \u001b[38;5;28;01mfor\u001b[39;00m key \u001b[38;5;129;01min\u001b[39;00m lstents \u001b[38;5;28;01mfor\u001b[39;00m ent \u001b[38;5;129;01min\u001b[39;00m key]\n\u001b[1;32m     57\u001b[0m \u001b[38;5;28mprint\u001b[39m(keys)\n\u001b[0;32m---> 59\u001b[0m source_entities_labeled \u001b[38;5;241m=\u001b[39m np\u001b[38;5;241m.\u001b[39marray([key[enkey][\u001b[38;5;124m'\u001b[39m\u001b[38;5;124men\u001b[39m\u001b[38;5;124m'\u001b[39m] \u001b[38;5;28;01mfor\u001b[39;00m enkey \u001b[38;5;129;01min\u001b[39;00m keys \u001b[38;5;28;01mfor\u001b[39;00m key \u001b[38;5;129;01min\u001b[39;00m lstents], dtype \u001b[38;5;241m=\u001b[39m \u001b[38;5;28mobject\u001b[39m)\n\u001b[1;32m     60\u001b[0m target_entities_labeled \u001b[38;5;241m=\u001b[39m np\u001b[38;5;241m.\u001b[39marray([key[enkey][language] \u001b[38;5;28;01mfor\u001b[39;00m enkey \u001b[38;5;129;01min\u001b[39;00m keys \u001b[38;5;28;01mfor\u001b[39;00m key \u001b[38;5;129;01min\u001b[39;00m lstents], dtype \u001b[38;5;241m=\u001b[39m \u001b[38;5;28mobject\u001b[39m)\n\u001b[1;32m     62\u001b[0m model \u001b[38;5;241m=\u001b[39m SpanMarkerModel\u001b[38;5;241m.\u001b[39mfrom_pretrained(\u001b[38;5;124m\"\u001b[39m\u001b[38;5;124mtomaarsen/span-marker-mbert-base-multinerd\u001b[39m\u001b[38;5;124m\"\u001b[39m, clean_up_tokenization_spaces \u001b[38;5;241m=\u001b[39m \u001b[38;5;28;01mTrue\u001b[39;00m)\n",
      "\u001b[0;31mKeyError\u001b[0m: 'Q30'"
     ]
    }
   ],
   "source": [
    "from main import split\n",
    "from ner_processing import sanity_check, identify_named_entities\n",
    "import os \n",
    "\n",
    "es_datapath = os.path.abspath('data/spanish_w_labels.json')\n",
    "it_datapath = os.path.abspath('data/italian_w_labels.json')\n",
    "\n",
    "es_train, es_test, es_dev = split(es_datapath, \"spanish\")\n",
    "it_train, it_test, it_dev = split(it_datapath, \"italian\")\n",
    "\n",
    "\n",
    "nerRes = {\"es\": None,\"it\": None}\n",
    "\n",
    "# Step 2: Perform Named Entity Recognition (NER)\n",
    "for language in ['es', 'it']:\n",
    "    print(\"Identifying named entities {}... \\n\".format(language))\n",
    "    file = es_dev if language == 'es' else it_dev\n",
    "\n",
    "    nerRes[language] = identify_named_entities(file, language, \"dev\")\n",
    "    input = {\"entities_labeled\": nerRes['target_entities_labeled'], \"entities_predicted\": nerRes['target_entities_predicted']}\n",
    "\n",
    "    precision, recall, F1 = sanity_check(input)\n",
    "    print(\"Accuracy of SpanMarker for Multilingual Named Entity Recognition {}\\n\".format(language))\n",
    "    print(\"Precision: {}\".format(precision))\n",
    "    print(\"Recall: {}\".format(recall))\n",
    "    print(\"F1: {}\".format(F1))"
   ]
  }
 ],
 "metadata": {
  "kernelspec": {
   "display_name": "Python 3 (ipykernel)",
   "language": "python",
   "name": "python3"
  },
  "language_info": {
   "codemirror_mode": {
    "name": "ipython",
    "version": 3
   },
   "file_extension": ".py",
   "mimetype": "text/x-python",
   "name": "python",
   "nbconvert_exporter": "python",
   "pygments_lexer": "ipython3",
   "version": "3.11.9"
  }
 },
 "nbformat": 4,
 "nbformat_minor": 2
}
